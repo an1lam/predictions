{
 "cells": [
  {
   "cell_type": "code",
   "execution_count": 2,
   "metadata": {},
   "outputs": [],
   "source": [
    "from collections import namedtuple\n",
    "\n",
    "import numpy as np\n",
    "import pandas as pd\n",
    "from scipy import stats"
   ]
  },
  {
   "cell_type": "markdown",
   "metadata": {},
   "source": [
    "## Question 1: Engineered pathogen GCR\n",
    "Aggregating probabilities from different sources:\n",
    "- Probability: 1/30, Weight: 0.2, Target Date: 2120\n",
    "- Probability: 0.1, Weight: 0.4, Target Date: 2100\n",
    "- Probability: 6.32*10-5, Weight: 0.1, Target Date: 2100\n",
    "- Probability: 0.0002, Weight: 0.1, Target Date: 2115\n",
    "- Probability: 2*10-6, Weight: 0.1, Target Date: 2100\n",
    "- Probability: 0.1, Weight: 0.1, Target Date: 2117 \n"
   ]
  },
  {
   "cell_type": "code",
   "execution_count": 7,
   "metadata": {},
   "outputs": [],
   "source": [
    "ProbabilityBy = namedtuple(\n",
    "    'ProbabilityBy', \n",
    "    ['probability', 'weight', 'years_away']\n",
    ")"
   ]
  },
  {
   "cell_type": "code",
   "execution_count": 23,
   "metadata": {},
   "outputs": [],
   "source": [
    "source_probabilities_by = [\n",
    "    ProbabilityBy(1/30, 0.2, 2120-2022),\n",
    "    ProbabilityBy(1/10, 0.4, 2100-2022),\n",
    "    ProbabilityBy(6.32e-5, 0.1, 2100-2022),\n",
    "    ProbabilityBy(2e-4, 0.1, 2100-2022),\n",
    "    ProbabilityBy(2e-6, 0.1, 2100-2022),\n",
    "    ProbabilityBy(0.1, 0.1, 2117-2022)\n",
    "]"
   ]
  },
  {
   "cell_type": "code",
   "execution_count": 24,
   "metadata": {},
   "outputs": [],
   "source": [
    "def weighted_gmean(x, weights):\n",
    "    return np.exp(((weights) * np.log(x)).sum() / weights.sum())\n",
    "\n",
    "assert weighted_gmean(np.ones(2) * 0.5, np.ones(2)) == 0.5\n",
    "assert weighted_gmean(np.array([0.1, 0.01, 0.1]), np.ones(3)), 0.01"
   ]
  },
  {
   "cell_type": "code",
   "execution_count": 25,
   "metadata": {},
   "outputs": [
    {
     "name": "stdout",
     "output_type": "stream",
     "text": [
      "My beliefs:\n",
      "2030 0.0006721398511320717\n",
      "2050 0.002352489478962251\n",
      "2100 0.0065533635485376975\n"
     ]
    }
   ],
   "source": [
    "probs = [pb.probability for pb in source_probabilities_by]\n",
    "years_away = [pb.years_away for pb in source_probabilities_by]\n",
    "weights = [pb.weight for pb in source_probabilities_by]\n",
    "print(\"My beliefs:\")\n",
    "for target_year in [2030, 2050, 2100]:\n",
    "    target_years_away = target_year - 2022\n",
    "    adjustment_weights = target_years_away / np.array(years_away)\n",
    "    adjusted_probs = np.array(probs) * adjustment_weights\n",
    "    print(target_year, weighted_gmean(adjusted_probs, np.array(weights)))"
   ]
  },
  {
   "cell_type": "code",
   "execution_count": 26,
   "metadata": {},
   "outputs": [
    {
     "name": "stdout",
     "output_type": "stream",
     "text": [
      "Expert beliefs:\n",
      "2030 0.010256410256410256\n",
      "2050 0.0358974358974359\n",
      "2100 0.1\n"
     ]
    }
   ],
   "source": [
    "probs = [pb.probability for pb in source_probabilities_by]\n",
    "years_away = [pb.years_away for pb in source_probabilities_by]\n",
    "weights = [pb.weight for pb in source_probabilities_by]\n",
    "print(\"Expert beliefs:\")\n",
    "for target_year in [2030, 2050, 2100]:\n",
    "    target_years_away = target_year - 2022\n",
    "    adjustment_weight = target_years_away / (2100 - 2022)\n",
    "    print(target_year, adjustment_weight * 0.1)\n",
    "    "
   ]
  }
 ],
 "metadata": {
  "kernelspec": {
   "display_name": "Python 3",
   "language": "python",
   "name": "python3"
  },
  "language_info": {
   "codemirror_mode": {
    "name": "ipython",
    "version": 3
   },
   "file_extension": ".py",
   "mimetype": "text/x-python",
   "name": "python",
   "nbconvert_exporter": "python",
   "pygments_lexer": "ipython3",
   "version": "3.6.10"
  }
 },
 "nbformat": 4,
 "nbformat_minor": 4
}
